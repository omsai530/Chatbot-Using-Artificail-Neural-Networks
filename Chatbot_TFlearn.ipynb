{
 "cells": [
  {
   "cell_type": "code",
   "execution_count": 3,
   "metadata": {},
   "outputs": [],
   "source": [
    "import nltk"
   ]
  },
  {
   "cell_type": "code",
   "execution_count": 4,
   "metadata": {},
   "outputs": [
    {
     "data": {
      "text/plain": [
       "['Whats', 'would', 'you', 'do', 'with', '1000000', '$', '?']"
      ]
     },
     "execution_count": 4,
     "metadata": {},
     "output_type": "execute_result"
    }
   ],
   "source": [
    "def tokenize(sentence):\n",
    "    return nltk.word_tokenize(sentence)\n",
    "\n",
    "a='Whats would you do with 1000000$ ? '\n",
    "\n",
    "b='organizer Organizing Organization'\n",
    "\n",
    "tokenize(a)"
   ]
  },
  {
   "cell_type": "code",
   "execution_count": 5,
   "metadata": {},
   "outputs": [
    {
     "data": {
      "text/plain": [
       "['organ', 'organ', 'organ']"
      ]
     },
     "execution_count": 5,
     "metadata": {},
     "output_type": "execute_result"
    }
   ],
   "source": [
    "from nltk.stem.porter import PorterStemmer\n",
    "stemmer=PorterStemmer()\n",
    "\n",
    "def stem(word):\n",
    "    return stemmer.stem(word.lower())\n",
    "\n",
    "stem_words = [stem(word) for word in tokenize(b)]\n",
    "\n",
    "stem_words"
   ]
  },
  {
   "cell_type": "code",
   "execution_count": 6,
   "metadata": {},
   "outputs": [],
   "source": [
    "import numpy as np\n",
    "\n",
    "def bag_of_words(tokenized_sentence,all_words):\n",
    "    stemmed_sentence=[stem(w) for w in tokenized_sentence]\n",
    "    bag=[0]*len(all_words)\n",
    "    for index,word in enumerate(all_words):\n",
    "        if word in stemmed_sentence:\n",
    "            bag[index]=1\n",
    "    return bag\n"
   ]
  },
  {
   "cell_type": "code",
   "execution_count": 7,
   "metadata": {},
   "outputs": [],
   "source": [
    "import json\n",
    "with open('intent.json','r') as f:\n",
    "    data=json.load(f)"
   ]
  },
  {
   "cell_type": "code",
   "execution_count": 9,
   "metadata": {},
   "outputs": [],
   "source": [
    "tags=[]\n",
    "responses=[]\n",
    "all_words=[]\n",
    "xy=[]\n",
    "for intent in data['intents']:\n",
    "    tag=intent['tag']\n",
    "    if tag not in tags:\n",
    "        tags.append(tag)\n",
    "    for pattern in intent['patterns']:\n",
    "        w=tokenize(pattern)\n",
    "        all_words.extend(w)\n",
    "        xy.append((w,tag))\n",
    "    for response in intent['responses']:\n",
    "        responses.append(response)\n"
   ]
  },
  {
   "cell_type": "code",
   "execution_count": 20,
   "metadata": {},
   "outputs": [
    {
     "data": {
      "text/plain": [
       "['programming_language',\n",
       " 'Company_details',\n",
       " 'outcome',\n",
       " 'thanks',\n",
       " 'course_enroll',\n",
       " 'specific_questions2',\n",
       " 'suggestions',\n",
       " 'prerequisite',\n",
       " 'payment_platforms',\n",
       " 'liveclassesprice',\n",
       " 'size',\n",
       " 'difference',\n",
       " 'special',\n",
       " 'classes_levels',\n",
       " 'statistics',\n",
       " 'specific_questions',\n",
       " 'offers',\n",
       " 'monitor',\n",
       " 'courses',\n",
       " 'mentors',\n",
       " 'course_levels',\n",
       " 'liveclassescontents',\n",
       " 'help',\n",
       " 'mulitple_courses',\n",
       " 'achievements',\n",
       " 'eligible',\n",
       " 'partners',\n",
       " 'coding_language',\n",
       " 'specific_questions5',\n",
       " 'noanswer',\n",
       " 'goodbye',\n",
       " 'greeting',\n",
       " 'specific_questions4',\n",
       " 'missed_class',\n",
       " 'time',\n",
       " 'contact',\n",
       " 'specific_questions3',\n",
       " 'specific_questions1',\n",
       " 'change',\n",
       " 'coding',\n",
       " 'coursecontents',\n",
       " 'class_enroll',\n",
       " 'options',\n",
       " 'cancelations-refunds',\n",
       " 'values',\n",
       " 'courseprice']"
      ]
     },
     "execution_count": 20,
     "metadata": {},
     "output_type": "execute_result"
    }
   ],
   "source": [
    "ignore_words=['!','?','.',',']\n",
    "all_words=[stem(w) for w in all_words if w not in ignore_words]\n",
    "all_words=list(set(sorted(all_words)))\n",
    "tags=list(set(sorted(tags)))\n",
    "tags"
   ]
  },
  {
   "cell_type": "code",
   "execution_count": 21,
   "metadata": {},
   "outputs": [
    {
     "name": "stderr",
     "output_type": "stream",
     "text": [
      "<ipython-input-21-08c09ac4ef71>:9: VisibleDeprecationWarning: Creating an ndarray from ragged nested sequences (which is a list-or-tuple of lists-or-tuples-or ndarrays with different lengths or shapes) is deprecated. If you meant to do this, you must specify 'dtype=object' when creating the ndarray\n",
      "  training=np.array(training)\n"
     ]
    }
   ],
   "source": [
    "import random\n",
    "training=[]\n",
    "for tokenized_sentence,tag in xy:\n",
    "    bag=bag_of_words(tokenized_sentence,all_words)\n",
    "    output=[0]*len(tags)\n",
    "    output[tags.index(tag)]=1\n",
    "    training.append([bag,output])\n",
    "random.shuffle(training)\n",
    "training=np.array(training)\n"
   ]
  },
  {
   "cell_type": "code",
   "execution_count": 12,
   "metadata": {
    "scrolled": true
   },
   "outputs": [],
   "source": [
    "X_train=list(training[:,0])\n",
    "y_train=list(training[:,1])"
   ]
  },
  {
   "cell_type": "code",
   "execution_count": 13,
   "metadata": {},
   "outputs": [],
   "source": [
    "import pickle\n",
    "pickle.dump({'all_words':all_words, 'xy':xy, 'responses': responses,'X_train':X_train, 'y_train':y_train},open(\"training_data\",\"wb\"))"
   ]
  },
  {
   "cell_type": "code",
   "execution_count": 18,
   "metadata": {},
   "outputs": [],
   "source": [
    "with open('training_data','rb') as f:\n",
    "    data = pickle.load(f)\n",
    "all_words = data['all_words']\n",
    "xy = data['xy']\n",
    "responses = data['responses']\n",
    "X_train = data['X_train']\n",
    "y_train = data['y_train']"
   ]
  },
  {
   "cell_type": "code",
   "execution_count": 11,
   "metadata": {},
   "outputs": [
    {
     "name": "stdout",
     "output_type": "stream",
     "text": [
      "Training Step: 30999  | total loss: \u001b[1m\u001b[32m0.04361\u001b[0m\u001b[0m | time: 0.103s\n",
      "| Adam | epoch: 1000 | loss: 0.04361 - acc: 0.9555 -- iter: 240/244\n",
      "Training Step: 31000  | total loss: \u001b[1m\u001b[32m0.03925\u001b[0m\u001b[0m | time: 0.107s\n",
      "| Adam | epoch: 1000 | loss: 0.03925 - acc: 0.9599 -- iter: 244/244\n",
      "--\n"
     ]
    }
   ],
   "source": [
    "import tensorflow as tf\n",
    "import tflearn\n",
    "\n",
    "\n",
    "input_layer=tflearn.input_data(shape=[None,len(X_train[0])])\n",
    "layer1=tflearn.fully_connected(input_layer,10)\n",
    "layer2=tflearn.fully_connected(layer1,10)\n",
    "output_layer=tflearn.fully_connected(layer2,len(y_train[0]),activation='softmax')\n",
    "net=tflearn.regression(output_layer,optimizer='adam',loss='categorical_crossentropy',metric=tflearn.metrics.Accuracy())\n",
    "model=tflearn.DNN(net, tensorboard_dir='tflearn_logs')\n",
    "\n",
    "model.fit(X_train, y_train, n_epoch=1000, batch_size=8, show_metric=True)\n"
   ]
  },
  {
   "cell_type": "code",
   "execution_count": 12,
   "metadata": {},
   "outputs": [],
   "source": [
    "def bow(sentence,all_words):\n",
    "    stemmed_sentence=[stem(w) for w in tokenize(sentence)]\n",
    "    bag=[0]*len(all_words)\n",
    "    for index,word in enumerate(all_words):\n",
    "        if word in stemmed_sentence:\n",
    "            bag[index]=1\n",
    "    return np.array(bag)"
   ]
  },
  {
   "cell_type": "code",
   "execution_count": 13,
   "metadata": {},
   "outputs": [
    {
     "data": {
      "text/plain": [
       "array([[2.41278791e-16, 7.38160935e-33, 5.91688157e-11, 9.99958396e-01,\n",
       "        1.56103013e-25, 1.21264052e-35, 4.96906103e-28, 1.67443126e-21,\n",
       "        2.22879726e-27, 6.49067624e-20, 1.30199143e-27, 2.43885239e-26,\n",
       "        2.31730271e-32, 1.50878557e-37, 8.61871392e-13, 1.73337968e-28,\n",
       "        0.00000000e+00, 9.87313069e-06, 2.00278405e-23, 1.83506802e-06,\n",
       "        4.73738300e-23, 1.50529325e-33, 1.11494306e-22, 7.21014049e-20,\n",
       "        2.12551452e-29, 4.63704385e-30, 6.79855919e-29, 1.34679005e-34,\n",
       "        7.03866908e-06, 2.92133791e-06, 1.65516501e-19, 4.27909661e-14,\n",
       "        1.73657241e-10, 1.38534970e-08, 1.62432746e-20, 2.46202825e-31,\n",
       "        8.78697805e-24, 1.57747818e-05, 2.27391227e-25, 1.11552285e-20,\n",
       "        8.76535064e-24, 2.02862839e-22, 2.93931239e-21, 7.31819888e-23,\n",
       "        4.62357835e-25, 4.15373734e-06]], dtype=float32)"
      ]
     },
     "execution_count": 13,
     "metadata": {},
     "output_type": "execute_result"
    }
   ],
   "source": [
    "model.predict([bow('Is anyone there?', all_words)])"
   ]
  },
  {
   "cell_type": "code",
   "execution_count": 14,
   "metadata": {},
   "outputs": [],
   "source": [
    "ERROR_THRESHOLD = 0.70\n",
    "def classify(sentence):\n",
    "    #generate probabilities from model\n",
    "    results = model.predict([bow(sentence, all_words)])[0]\n",
    "    \n",
    "    # filter out predictions below a threashold\n",
    "    results = [[i,r] for i,r in enumerate(results) if r>ERROR_THRESHOLD]\n",
    "    \n",
    "    # sort by strength of the probability\n",
    "    results.sort(key=lambda x: x[1], reverse=True)\n",
    "    return_list = []\n",
    "    for r in results:\n",
    "        return_list.append((tags[r[0]], r[1]))\n",
    "    return return_list"
   ]
  },
  {
   "cell_type": "code",
   "execution_count": 15,
   "metadata": {},
   "outputs": [
    {
     "data": {
      "text/plain": [
       "[('goodbye', 0.999992)]"
      ]
     },
     "execution_count": 15,
     "metadata": {},
     "output_type": "execute_result"
    }
   ],
   "source": [
    "classify('bye')"
   ]
  },
  {
   "cell_type": "code",
   "execution_count": 41,
   "metadata": {},
   "outputs": [],
   "source": [
    "\n",
    "def response(sentence):\n",
    "    results = classify(sentence)\n",
    "    # if we have a classification then find the matching intent tag\n",
    "    if results:\n",
    "        # loop as long as there are matches to process\n",
    "        while results:\n",
    "            for i in data['intents']:\n",
    "                # find a tag matching the first result\n",
    "                if i['tag'] == results[0][0]:\n",
    "                    return print(random.choice(i['responses']))"
   ]
  },
  {
   "cell_type": "code",
   "execution_count": 43,
   "metadata": {
    "scrolled": true
   },
   "outputs": [
    {
     "name": "stdout",
     "output_type": "stream",
     "text": [
      "Let's chat! (type 'quit' to exit)\n",
      "You: 'What are the ways to enroll to the course?',\n",
      "Choose Course which you want to enroll yourself.Fill the details Make your payment and enjoy CODING\n",
      "You: quit\n"
     ]
    }
   ],
   "source": [
    "bot_name = \"Bot\"\n",
    "print(\"Let's chat! (type 'quit' to exit)\")\n",
    "while True:\n",
    "    # sentence = \"do you use credit cards?\"\n",
    "    sentence = input(\"You: \")\n",
    "    if sentence == 'quit':\n",
    "        break\n",
    "    if response(sentence):\n",
    "        \"Sam :\"+response(sentence)"
   ]
  }
 ],
 "metadata": {
  "kernelspec": {
   "display_name": "Python 3",
   "language": "python",
   "name": "python3"
  },
  "language_info": {
   "codemirror_mode": {
    "name": "ipython",
    "version": 3
   },
   "file_extension": ".py",
   "mimetype": "text/x-python",
   "name": "python",
   "nbconvert_exporter": "python",
   "pygments_lexer": "ipython3",
   "version": "3.8.5"
  }
 },
 "nbformat": 4,
 "nbformat_minor": 4
}
